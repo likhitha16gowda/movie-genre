{
 "cells": [
  {
   "cell_type": "code",
   "execution_count": 1,
   "id": "ab5ff612",
   "metadata": {
    "execution": {
     "iopub.execute_input": "2023-08-10T05:01:36.914550Z",
     "iopub.status.busy": "2023-08-10T05:01:36.914151Z",
     "iopub.status.idle": "2023-08-10T05:01:38.749542Z",
     "shell.execute_reply": "2023-08-10T05:01:38.748380Z"
    },
    "id": "Kk_RmLVoUj95",
    "papermill": {
     "duration": 1.844284,
     "end_time": "2023-08-10T05:01:38.752291",
     "exception": false,
     "start_time": "2023-08-10T05:01:36.908007",
     "status": "completed"
    },
    "tags": []
   },
   "outputs": [
    {
     "name": "stderr",
     "output_type": "stream",
     "text": [
      "/opt/conda/lib/python3.10/site-packages/scipy/__init__.py:146: UserWarning: A NumPy version >=1.16.5 and <1.23.0 is required for this version of SciPy (detected version 1.23.5\n",
      "  warnings.warn(f\"A NumPy version >={np_minversion} and <{np_maxversion}\"\n"
     ]
    }
   ],
   "source": [
    "import pandas as pd\n",
    "import re\n",
    "from sklearn.feature_extraction.text import TfidfVectorizer\n",
    "from gensim.models import Word2Vec\n",
    "from sklearn.ensemble import RandomForestClassifier\n",
    "from sklearn.model_selection import train_test_split\n",
    "from sklearn.metrics import accuracy_score, precision_score, recall_score, classification_report, confusion_matrix\n",
    "from sklearn.preprocessing import LabelEncoder"
   ]
  },
  {
   "cell_type": "code",
   "execution_count": null,
   "id": "3b8ae8fe",
   "metadata": {
    "execution": {
     "iopub.execute_input": "2023-08-10T05:01:38.773559Z",
     "iopub.status.busy": "2023-08-10T05:01:38.773133Z",
     "iopub.status.idle": "2023-08-10T05:01:39.862453Z",
     "shell.execute_reply": "2023-08-10T05:01:39.861630Z"
    },
    "id": "s4CUECulUuHC",
    "outputId": "361c8e90-4db3-4126-dd33-059bc8dd0810",
    "papermill": {
     "duration": 1.097668,
     "end_time": "2023-08-10T05:01:39.864585",
     "exception": false,
     "start_time": "2023-08-10T05:01:38.766917",
     "status": "completed"
    },
    "tags": []
   },
   "outputs": [
    {
     "data": {
      "text/html": [
       "<div>\n",
       "<style scoped>\n",
       "    .dataframe tbody tr th:only-of-type {\n",
       "        vertical-align: middle;\n",
       "    }\n",
       "\n",
       "    .dataframe tbody tr th {\n",
       "        vertical-align: top;\n",
       "    }\n",
       "\n",
       "    .dataframe thead th {\n",
       "        text-align: right;\n",
       "    }\n",
       "</style>\n",
       "<table border=\"1\" class=\"dataframe\">\n",
       "  <thead>\n",
       "    <tr style=\"text-align: right;\">\n",
       "      <th></th>\n",
       "      <th>Title</th>\n",
       "      <th>Genre</th>\n",
       "      <th>Description</th>\n",
       "    </tr>\n",
       "  </thead>\n",
       "  <tbody>\n",
       "    <tr>\n",
       "      <th>1</th>\n",
       "      <td>Oscar et la dame rose (2009)</td>\n",
       "      <td>drama</td>\n",
       "      <td>Listening in to a conversation between his do...</td>\n",
       "    </tr>\n",
       "    <tr>\n",
       "      <th>2</th>\n",
       "      <td>Cupid (1997)</td>\n",
       "      <td>thriller</td>\n",
       "      <td>A brother and sister with a past incestuous r...</td>\n",
       "    </tr>\n",
       "    <tr>\n",
       "      <th>3</th>\n",
       "      <td>Young, Wild and Wonderful (1980)</td>\n",
       "      <td>adult</td>\n",
       "      <td>As the bus empties the students for their fie...</td>\n",
       "    </tr>\n",
       "    <tr>\n",
       "      <th>4</th>\n",
       "      <td>The Secret Sin (1915)</td>\n",
       "      <td>drama</td>\n",
       "      <td>To help their unemployed father make ends mee...</td>\n",
       "    </tr>\n",
       "    <tr>\n",
       "      <th>5</th>\n",
       "      <td>The Unrecovered (2007)</td>\n",
       "      <td>drama</td>\n",
       "      <td>The film's title refers not only to the un-re...</td>\n",
       "    </tr>\n",
       "  </tbody>\n",
       "</table>\n",
       "</div>"
      ],
      "text/plain": [
       "                                Title       Genre  \\\n",
       "1       Oscar et la dame rose (2009)       drama    \n",
       "2                       Cupid (1997)    thriller    \n",
       "3   Young, Wild and Wonderful (1980)       adult    \n",
       "4              The Secret Sin (1915)       drama    \n",
       "5             The Unrecovered (2007)       drama    \n",
       "\n",
       "                                         Description  \n",
       "1   Listening in to a conversation between his do...  \n",
       "2   A brother and sister with a past incestuous r...  \n",
       "3   As the bus empties the students for their fie...  \n",
       "4   To help their unemployed father make ends mee...  \n",
       "5   The film's title refers not only to the un-re...  "
      ]
     },
     "execution_count": 2,
     "metadata": {},
     "output_type": "execute_result"
    }
   ],
   "source": [
    "data = pd.read_csv(\"/kaggle/input/genre-classification-dataset-imdb/Genre Classification Dataset/train_data.txt\", sep=':::', names=['Title', 'Genre', 'Description'], engine='python')\n",
    "data.head()\n"
   ]
  },
  {
   "cell_type": "code",
   "execution_count": null,
   "id": "322a162d",
   "metadata": {
    "execution": {
     "iopub.execute_input": "2023-08-10T05:01:39.876625Z",
     "iopub.status.busy": "2023-08-10T05:01:39.875927Z",
     "iopub.status.idle": "2023-08-10T05:01:40.803085Z",
     "shell.execute_reply": "2023-08-10T05:01:40.801985Z"
    },
    "id": "7RBM52OAVDIa",
    "outputId": "90ad70b3-5ad8-4609-98fb-2e852f4c0f35",
    "papermill": {
     "duration": 0.935703,
     "end_time": "2023-08-10T05:01:40.805515",
     "exception": false,
     "start_time": "2023-08-10T05:01:39.869812",
     "status": "completed"
    },
    "tags": []
   },
   "outputs": [
    {
     "data": {
      "text/html": [
       "<div>\n",
       "<style scoped>\n",
       "    .dataframe tbody tr th:only-of-type {\n",
       "        vertical-align: middle;\n",
       "    }\n",
       "\n",
       "    .dataframe tbody tr th {\n",
       "        vertical-align: top;\n",
       "    }\n",
       "\n",
       "    .dataframe thead th {\n",
       "        text-align: right;\n",
       "    }\n",
       "</style>\n",
       "<table border=\"1\" class=\"dataframe\">\n",
       "  <thead>\n",
       "    <tr style=\"text-align: right;\">\n",
       "      <th></th>\n",
       "      <th>Title</th>\n",
       "      <th>Description</th>\n",
       "    </tr>\n",
       "  </thead>\n",
       "  <tbody>\n",
       "    <tr>\n",
       "      <th>1</th>\n",
       "      <td>Edgar's Lunch (1998)</td>\n",
       "      <td>L.R. Brane loves his life - his car, his apar...</td>\n",
       "    </tr>\n",
       "    <tr>\n",
       "      <th>2</th>\n",
       "      <td>La guerra de papá (1977)</td>\n",
       "      <td>Spain, March 1964: Quico is a very naughty ch...</td>\n",
       "    </tr>\n",
       "    <tr>\n",
       "      <th>3</th>\n",
       "      <td>Off the Beaten Track (2010)</td>\n",
       "      <td>One year in the life of Albin and his family ...</td>\n",
       "    </tr>\n",
       "    <tr>\n",
       "      <th>4</th>\n",
       "      <td>Meu Amigo Hindu (2015)</td>\n",
       "      <td>His father has died, he hasn't spoken with hi...</td>\n",
       "    </tr>\n",
       "    <tr>\n",
       "      <th>5</th>\n",
       "      <td>Er nu zhai (1955)</td>\n",
       "      <td>Before he was known internationally as a mart...</td>\n",
       "    </tr>\n",
       "  </tbody>\n",
       "</table>\n",
       "</div>"
      ],
      "text/plain": [
       "                           Title  \\\n",
       "1          Edgar's Lunch (1998)    \n",
       "2      La guerra de papá (1977)    \n",
       "3   Off the Beaten Track (2010)    \n",
       "4        Meu Amigo Hindu (2015)    \n",
       "5             Er nu zhai (1955)    \n",
       "\n",
       "                                         Description  \n",
       "1   L.R. Brane loves his life - his car, his apar...  \n",
       "2   Spain, March 1964: Quico is a very naughty ch...  \n",
       "3   One year in the life of Albin and his family ...  \n",
       "4   His father has died, he hasn't spoken with hi...  \n",
       "5   Before he was known internationally as a mart...  "
      ]
     },
     "execution_count": 3,
     "metadata": {},
     "output_type": "execute_result"
    }
   ],
   "source": [
    "data = pd.read_csv(\"/kaggle/input/genre-classification-dataset-imdb/Genre Classification Dataset/test_data.txt\", sep=':::', names=['Title', 'Description'], engine='python')\n",
    "data.head()\n",
    "\n"
   ]
  },
  {
   "cell_type": "code",
   "execution_count": null,
   "id": "ba83d259",
   "metadata": {
    "execution": {
     "iopub.execute_input": "2023-08-10T05:01:40.818460Z",
     "iopub.status.busy": "2023-08-10T05:01:40.817564Z",
     "iopub.status.idle": "2023-08-10T05:01:40.835175Z",
     "shell.execute_reply": "2023-08-10T05:01:40.834210Z"
    },
    "id": "d24LK_x3VNgz",
    "papermill": {
     "duration": 0.026852,
     "end_time": "2023-08-10T05:01:40.837843",
     "exception": false,
     "start_time": "2023-08-10T05:01:40.810991",
     "status": "completed"
    },
    "tags": []
   },
   "outputs": [],
   "source": [
    "combined_data = pd.concat([data, test_data], ignore_index=True)\n",
    "newdata = combined_data"
   ]
  },
  {
   "cell_type": "code",
   "execution_count": 5,
   "id": "a155e1db",
   "metadata": {
    "execution": {
     "iopub.execute_input": "2023-08-10T05:01:40.862597Z",
     "iopub.status.busy": "2023-08-10T05:01:40.862041Z",
     "iopub.status.idle": "2023-08-10T05:02:44.808115Z",
     "shell.execute_reply": "2023-08-10T05:02:44.806833Z"
    },
    "id": "McT0UrFsVO0E",
    "outputId": "3bcb536d-09d7-46e8-872e-9c693ffa4d66",
    "papermill": {
     "duration": 63.956578,
     "end_time": "2023-08-10T05:02:44.810627",
     "exception": false,
     "start_time": "2023-08-10T05:01:40.854049",
     "status": "completed"
    },
    "tags": []
   },
   "outputs": [
    {
     "name": "stderr",
     "output_type": "stream",
     "text": [
      "/tmp/ipykernel_20/2793865844.py:10: SettingWithCopyWarning: \n",
      "A value is trying to be set on a copy of a slice from a DataFrame.\n",
      "Try using .loc[row_indexer,col_indexer] = value instead\n",
      "\n",
      "See the caveats in the documentation: https://pandas.pydata.org/pandas-docs/stable/user_guide/indexing.html#returning-a-view-versus-a-copy\n",
      "  data[\"embeddings\"] = data[\"Description\"].apply(get_sentence_embedding)\n",
      "/tmp/ipykernel_20/2793865844.py:14: SettingWithCopyWarning: \n",
      "A value is trying to be set on a copy of a slice from a DataFrame.\n",
      "Try using .loc[row_indexer,col_indexer] = value instead\n",
      "\n",
      "See the caveats in the documentation: https://pandas.pydata.org/pandas-docs/stable/user_guide/indexing.html#returning-a-view-versus-a-copy\n",
      "  data[\"genre_encoded\"] = label_encoder.fit_transform(data[\"Genre\"])\n"
     ]
    }
   ],
   "source": [
    "\n",
    "newdata = newdata.dropna()\n",
    "corpus = newdata[\"Description\"].apply(lambda x: re.findall(r'\\w+', x.lower()))\n",
    "word2vec_model = Word2Vec(corpus, vector_size=100, window=5, min_count=1, workers=4)\n",
    "\n",
    "def get_sentence_embedding(sentence):\n",
    "    words = re.findall(r'\\w+', sentence.lower())\n",
    "    vectors = [word2vec_model.wv[word] for word in words if word in word2vec_model.wv]\n",
    "    return sum(vectors) / len(vectors) if vectors else [0] * 100\n",
    "\n",
    "newdata[\"embeddings\"] = newdata[\"Description\"].apply(get_sentence_embedding)\n",
    "X = pd.DataFrame(newdata[\"embeddings\"].to_list())\n",
    "\n",
    "label_encoder = LabelEncoder()\n",
    "newdata[\"genre_encoded\"] = label_encoder.fit_transform(newdata[\"Genre\"])\n",
    "y = newdata[\"genre_encoded\"]"
   ]
  },
  {
   "cell_type": "code",
   "execution_count": 6,
   "id": "8c3ea2bf",
   "metadata": {
    "execution": {
     "iopub.execute_input": "2023-08-10T05:02:44.823987Z",
     "iopub.status.busy": "2023-08-10T05:02:44.823578Z",
     "iopub.status.idle": "2023-08-10T05:02:45.381791Z",
     "shell.execute_reply": "2023-08-10T05:02:45.380574Z"
    },
    "id": "gffRPd7Qd0UO",
    "outputId": "6ce25f82-ec1f-4045-e06e-86ae16dfef41",
    "papermill": {
     "duration": 0.567513,
     "end_time": "2023-08-10T05:02:45.384047",
     "exception": false,
     "start_time": "2023-08-10T05:02:44.816534",
     "status": "completed"
    },
    "tags": []
   },
   "outputs": [
    {
     "data": {
      "image/png": "[encoded data removed]",
      "text/plain": [
       "<Figure size 1000x600 with 1 Axes>"
      ]
     },
     "metadata": {},
     "output_type": "display_data"
    }
   ],
   "source": [
    "import matplotlib.pyplot as plt\n",
    "\n",
    "plt.figure(figsize=(10, 6))\n",
    "genre_counts = data[\"Genre\"].value_counts()\n",
    "genre_counts.plot(kind=\"bar\")\n",
    "plt.xlabel(\"Genre\")\n",
    "plt.ylabel(\"Count\")\n",
    "plt.title(\"Genre Distribution\")\n",
    "plt.xticks(rotation=45, ha='right')\n",
    "plt.show()\n",
    "\n"
   ]
  },
  {
   "cell_type": "code",
   "execution_count": 7,
   "id": "b58e6d76",
   "metadata": {
    "execution": {
     "iopub.execute_input": "2023-08-10T05:02:45.414504Z",
     "iopub.status.busy": "2023-08-10T05:02:45.414067Z",
     "iopub.status.idle": "2023-08-10T05:04:12.234378Z",
     "shell.execute_reply": "2023-08-10T05:04:12.233246Z"
    },
    "id": "59KkNMk-WfRs",
    "outputId": "f454d651-d9e7-460a-82f0-dc812820c8c0",
    "papermill": {
     "duration": 86.840427,
     "end_time": "2023-08-10T05:04:12.244727",
     "exception": false,
     "start_time": "2023-08-10T05:02:45.404300",
     "status": "completed"
    },
    "tags": []
   },
   "outputs": [
    {
     "name": "stdout",
     "output_type": "stream",
     "text": [
      "Precision: 0.45172034977889775\n",
      "Recall: 0.4937747855759476\n",
      "Accuracy: 0.4937747855759476\n",
      "              precision    recall  f1-score   support\n",
      "\n",
      "           0       0.37      0.03      0.05       252\n",
      "           1       0.00      0.00      0.00       128\n",
      "           2       1.00      0.01      0.01       160\n",
      "           3       0.00      0.00      0.00        98\n",
      "           4       0.00      0.00      0.00        39\n",
      "           5       0.39      0.40      0.39      1470\n",
      "           6       0.00      0.00      0.00       101\n",
      "           7       0.56      0.89      0.69      2631\n",
      "           8       0.45      0.76      0.57      2737\n",
      "           9       0.00      0.00      0.00       162\n",
      "          10       0.00      0.00      0.00        70\n",
      "          11       0.81      0.39      0.52        44\n",
      "          12       0.00      0.00      0.00        39\n",
      "          13       0.52      0.16      0.24       432\n",
      "          14       0.58      0.20      0.30       145\n",
      "          15       0.00      0.00      0.00        54\n",
      "          16       0.00      0.00      0.00        67\n",
      "          17       0.00      0.00      0.00        40\n",
      "          18       0.00      0.00      0.00       186\n",
      "          19       0.00      0.00      0.00       141\n",
      "          20       1.00      0.01      0.01       135\n",
      "          21       0.52      0.08      0.14      1032\n",
      "          22       0.89      0.19      0.31        84\n",
      "          23       0.67      0.03      0.05        80\n",
      "          24       0.12      0.00      0.01       289\n",
      "          25       1.00      0.04      0.07        28\n",
      "          26       0.72      0.57      0.63       199\n",
      "\n",
      "    accuracy                           0.49     10843\n",
      "   macro avg       0.36      0.14      0.15     10843\n",
      "weighted avg       0.45      0.49      0.41     10843\n",
      "\n",
      "Confusion Matrix:\n",
      "[[   7    0    0    0    0   43    0   50  136    0    0    0    0    4\n",
      "     0    0    0    0    1    0    0    1    1    0    0    0    9]\n",
      " [   1    0    0    0    0   48    0   23   54    0    0    0    0    0\n",
      "     0    0    0    0    0    0    0    1    0    0    0    0    1]\n",
      " [   1    0    1    0    0   29    0   35   83    0    0    0    0    3\n",
      "     0    0    0    0    0    0    0    2    0    0    0    0    6]\n",
      " [   1    0    0    0    0   22    0   33   34    0    0    0    0    3\n",
      "     0    0    0    0    1    0    0    4    0    0    0    0    0]\n",
      " [   0    0    0    0    0    0    0   29   10    0    0    0    0    0\n",
      "     0    0    0    0    0    0    0    0    0    0    0    0    0]\n",
      " [   1    0    0    0    0  589    0  181  673    0    1    0    0    5\n",
      "     3    0    0    0    1    0    0   10    0    1    0    0    5]\n",
      " [   1    0    0    0    0   20    0   14   60    0    0    0    0    3\n",
      "     0    0    0    0    0    0    0    1    0    0    0    0    2]\n",
      " [   0    0    0    0    0   58    0 2332  222    1    0    0    0    1\n",
      "     6    0    0    0    0    0    0   11    0    0    0    0    0]\n",
      " [   1    0    0    0    0  237    0  358 2092    0    0    0    0    8\n",
      "     1    0    0    0    0    0    0   23    0    0    3    0   14]\n",
      " [   0    0    0    0    0   42    0   45   70    0    0    0    0    1\n",
      "     2    0    0    0    1    0    0    0    0    0    0    0    1]\n",
      " [   0    0    0    0    0    7    0   14   46    0    0    0    0    3\n",
      "     0    0    0    0    0    0    0    0    0    0    0    0    0]\n",
      " [   0    0    0    0    0   14    0   10    3    0    0   17    0    0\n",
      "     0    0    0    0    0    0    0    0    0    0    0    0    0]\n",
      " [   0    0    0    0    0    1    0   30    8    0    0    0    0    0\n",
      "     0    0    0    0    0    0    0    0    0    0    0    0    0]\n",
      " [   1    0    0    0    0   66    0   48  236    0    0    1    0   67\n",
      "     1    0    0    0    0    0    0    8    1    0    1    0    2]\n",
      " [   0    0    0    0    0   13    0   97    5    0    0    0    0    0\n",
      "    29    0    0    0    0    0    0    1    0    0    0    0    0]\n",
      " [   0    0    0    0    0   16    0   14   23    0    0    0    0    0\n",
      "     0    0    0    0    0    0    0    1    0    0    0    0    0]\n",
      " [   0    0    0    0    0    5    0   12   41    0    0    0    0    3\n",
      "     0    0    0    0    0    0    0    1    0    0    2    0    3]\n",
      " [   0    0    0    0    0   10    0   29    0    0    0    0    0    0\n",
      "     0    0    0    0    0    0    0    1    0    0    0    0    0]\n",
      " [   0    0    0    0    0   47    0  121   10    0    0    3    0    2\n",
      "     1    0    0    0    0    0    0    2    0    0    0    0    0]\n",
      " [   0    0    0    0    0   17    0    5  118    0    0    0    0    0\n",
      "     0    0    0    0    0    0    0    1    0    0    0    0    0]\n",
      " [   1    0    0    0    0   16    0   62   44    0    0    0    0    7\n",
      "     0    0    0    0    0    0    1    4    0    0    0    0    0]\n",
      " [   0    0    0    0    0  124    0  430  384    0    0    0    0    3\n",
      "     2    0    0    0    0    0    0   86    0    0    1    0    2]\n",
      " [   0    0    0    0    0   11    0   55    1    0    0    0    0    0\n",
      "     1    0    0    0    0    0    0    0   16    0    0    0    0]\n",
      " [   0    0    0    0    0   14    0   57    1    0    0    0    0    0\n",
      "     4    0    0    0    1    0    0    1    0    2    0    0    0]\n",
      " [   2    0    0    0    0   50    0   26  189    0    0    0    0   14\n",
      "     0    0    0    0    0    0    0    7    0    0    1    0    0]\n",
      " [   0    0    0    0    0    1    0   14   12    0    0    0    0    0\n",
      "     0    0    0    0    0    0    0    0    0    0    0    1    0]\n",
      " [   2    0    0    0    0   21    0    5   56    0    0    0    0    2\n",
      "     0    0    0    0    0    0    0    0    0    0    0    0  113]]\n"
     ]
    },
    {
     "name": "stderr",
     "output_type": "stream",
     "text": [
      "/opt/conda/lib/python3.10/site-packages/sklearn/metrics/_classification.py:1344: UndefinedMetricWarning: Precision is ill-defined and being set to 0.0 in labels with no predicted samples. Use `zero_division` parameter to control this behavior.\n",
      "  _warn_prf(average, modifier, msg_start, len(result))\n",
      "/opt/conda/lib/python3.10/site-packages/sklearn/metrics/_classification.py:1344: UndefinedMetricWarning: Precision and F-score are ill-defined and being set to 0.0 in labels with no predicted samples. Use `zero_division` parameter to control this behavior.\n",
      "  _warn_prf(average, modifier, msg_start, len(result))\n",
      "/opt/conda/lib/python3.10/site-packages/sklearn/metrics/_classification.py:1344: UndefinedMetricWarning: Precision and F-score are ill-defined and being set to 0.0 in labels with no predicted samples. Use `zero_division` parameter to control this behavior.\n",
      "  _warn_prf(average, modifier, msg_start, len(result))\n",
      "/opt/conda/lib/python3.10/site-packages/sklearn/metrics/_classification.py:1344: UndefinedMetricWarning: Precision and F-score are ill-defined and being set to 0.0 in labels with no predicted samples. Use `zero_division` parameter to control this behavior.\n",
      "  _warn_prf(average, modifier, msg_start, len(result))\n"
     ]
    }
   ],
   "source": [
    "X_train, X_test, y_train, y_test = train_test_split(X, y, test_size=0.2)\n",
    "\n",
    "\n",
    "model = RandomForestClassifier(n_estimators=100, random_state=42)\n",
    "model.fit(X_train, y_train)\n",
    "\n",
    "\n",
    "predictions = model.predict(X_test)\n",
    "precision = precision_score(y_test, predictions, average='weighted')\n",
    "recall = recall_score(y_test, predictions, average='weighted')\n",
    "accuracy = accuracy_score(y_test, predictions)\n",
    "\n",
    "print(\"Precision:\", precision)\n",
    "print(\"Recall:\", recall)\n",
    "print(\"Accuracy:\", accuracy)\n",
    "\n",
    "# Print the classification report\n",
    "print(classification_report(y_test, predictions))\n",
    "\n",
    "# Print the confusion matrix\n",
    "confusion_mat = confusion_matrix(y_test, predictions)\n",
    "print(\"Confusion Matrix:\")\n",
    "print(confusion_mat)"
   ]
  },
  {
   "cell_type": "markdown",
   "id": "f28c9393",
   "metadata": {
    "id": "fgB6Hr1fWmrC",
    "papermill": {
     "duration": 0.006221,
     "end_time": "2023-08-10T05:04:12.257419",
     "exception": false,
     "start_time": "2023-08-10T05:04:12.251198",
     "status": "completed"
    },
    "tags": []
   },
   "source": [
    "<h1>Genre Prediction"
   ]
  },
  {
   "cell_type": "code",
   "execution_count": 8,
   "id": "f0dd68f0",
   "metadata": {
    "execution": {
     "iopub.execute_input": "2023-08-10T05:04:12.271811Z",
     "iopub.status.busy": "2023-08-10T05:04:12.271206Z",
     "iopub.status.idle": "2023-08-10T05:06:42.814530Z",
     "shell.execute_reply": "2023-08-10T05:06:42.813277Z"
    },
    "id": "tRmqL--cWzKO",
    "outputId": "caffceab-04e2-41af-8e50-61514fbd5e29",
    "papermill": {
     "duration": 150.559936,
     "end_time": "2023-08-10T05:06:42.823739",
     "exception": false,
     "start_time": "2023-08-10T05:04:12.263803",
     "status": "completed"
    },
    "tags": []
   },
   "outputs": [
    {
     "name": "stderr",
     "output_type": "stream",
     "text": [
      "/tmp/ipykernel_20/1126448303.py:30: SettingWithCopyWarning: \n",
      "A value is trying to be set on a copy of a slice from a DataFrame.\n",
      "Try using .loc[row_indexer,col_indexer] = value instead\n",
      "\n",
      "See the caveats in the documentation: https://pandas.pydata.org/pandas-docs/stable/user_guide/indexing.html#returning-a-view-versus-a-copy\n",
      "  data[\"embeddings\"] = data[\"Description\"].apply(get_sentence_embedding)\n",
      "/tmp/ipykernel_20/1126448303.py:33: SettingWithCopyWarning: \n",
      "A value is trying to be set on a copy of a slice from a DataFrame.\n",
      "Try using .loc[row_indexer,col_indexer] = value instead\n",
      "\n",
      "See the caveats in the documentation: https://pandas.pydata.org/pandas-docs/stable/user_guide/indexing.html#returning-a-view-versus-a-copy\n",
      "  data[\"genre_encoded\"] = label_encoder.fit_transform(data[\"Genre\"])\n"
     ]
    },
    {
     "name": "stdout",
     "output_type": "stream",
     "text": [
      "Description: A group of friends embark on an adventurous journey.\n",
      "Predicted Genre:  drama \n",
      "\n",
      "Description: In a dystopian future, a hero rises to save the world.\n",
      "Predicted Genre:  drama \n",
      "\n",
      "Description: A heartwarming story of family and friendship.\n",
      "Predicted Genre:  short \n",
      "\n"
     ]
    }
   ],
   "source": [
    "import pandas as pd\n",
    "import re\n",
    "from sklearn.feature_extraction.text import TfidfVectorizer\n",
    "from gensim.models import Word2Vec\n",
    "from sklearn.ensemble import RandomForestClassifier\n",
    "from sklearn.model_selection import train_test_split\n",
    "from sklearn.metrics import accuracy_score, precision_score, recall_score, classification_report, confusion_matrix\n",
    "from sklearn.preprocessing import LabelEncoder\n",
    "\n",
    "def get_sentence_embedding(sentence):\n",
    "    words = re.findall(r'\\w+', sentence.lower())\n",
    "    vectors = [word2vec_model.wv[word] for word in words if word in word2vec_model.wv]\n",
    "    return sum(vectors) / len(vectors) if vectors else [0] * 100\n",
    "\n",
    "def train_model():\n",
    "    train_data = pd.read_csv(\"/kaggle/input/genre-classification-dataset-imdb/Genre Classification Dataset/train_data.txt\", sep=':::', names=['Title', 'Genre', 'Description'], engine='python')\n",
    "    test_data = pd.read_csv(\"/kaggle/input/genre-classification-dataset-imdb/Genre Classification Dataset/test_data.txt\", sep=':::', names=['Title', 'Description'], engine='python')\n",
    "    combined_data = pd.concat([train_data, test_data], ignore_index=True)\n",
    "    data = combined_data\n",
    "    data = data.dropna()\n",
    "    corpus = data[\"Description\"].apply(lambda x: re.findall(r'\\w+', x.lower()))\n",
    "    word2vec_model = Word2Vec(corpus, vector_size=100, window=5, min_count=1, workers=4)\n",
    "\n",
    "\n",
    "    def get_sentence_embedding(sentence):\n",
    "        words = re.findall(r'\\w+', sentence.lower())\n",
    "        vectors = [word2vec_model.wv[word] for word in words if word in word2vec_model.wv]\n",
    "        return sum(vectors) / len(vectors) if vectors else [0] * 100\n",
    "\n",
    "    data[\"embeddings\"] = data[\"Description\"].apply(get_sentence_embedding)\n",
    "    X = pd.DataFrame(data[\"embeddings\"].to_list())\n",
    "    label_encoder = LabelEncoder()\n",
    "    data[\"genre_encoded\"] = label_encoder.fit_transform(data[\"Genre\"])\n",
    "    y = data[\"genre_encoded\"]\n",
    "    X_train, X_test, y_train, y_test = train_test_split(X, y, test_size=0.2)\n",
    "    model = RandomForestClassifier(n_estimators=100, random_state=42)\n",
    "    model.fit(X_train, y_train)\n",
    "\n",
    "    return model, label_encoder\n",
    "\n",
    "def predict_genre(model, label_encoder, new_descriptions):\n",
    "    new_embeddings = [get_sentence_embedding(desc) for desc in new_descriptions]\n",
    "    new_X = pd.DataFrame(new_embeddings)\n",
    "    new_predictions = model.predict(new_X)\n",
    "    predicted_genres = label_encoder.inverse_transform(new_predictions)\n",
    "\n",
    "    return predicted_genres\n",
    "\n",
    "trained_model, genre_label_encoder = train_model()\n",
    "\n",
    "new_descriptions = [\"A group of friends embark on an adventurous journey.\",\"In a dystopian future, a hero rises to save the world.\",\"A heartwarming story of family and friendship.\"]\n",
    "\n",
    "\n",
    "predicted_genres = predict_genre(trained_model, genre_label_encoder, new_descriptions)\n",
    "\n",
    "for desc, genre in zip(new_descriptions, predicted_genres):\n",
    "    print(f\"Description: {desc}\")\n",
    "    print(f\"Predicted Genre: {genre}\")\n",
    "    print()\n"
   ]
  }
 ],
 "metadata": {
  "kernelspec": {
   "display_name": "Python 3",
   "language": "python",
   "name": "python3"
  },
  "language_info": {
   "codemirror_mode": {
    "name": "ipython",
    "version": 3
   },
   "file_extension": ".py",
   "mimetype": "text/x-python",
   "name": "python",
   "nbconvert_exporter": "python",
   "pygments_lexer": "ipython3",
   "version": "3.10.12"
  },
  "papermill": {
   "default_parameters": {},
   "duration": 318.273835,
   "end_time": "2023-08-10T05:06:44.358382",
   "environment_variables": {},
   "exception": null,
   "input_path": "__notebook__.ipynb",
   "output_path": "__notebook__.ipynb",
   "parameters": {},
   "start_time": "2023-08-10T05:01:26.084547",
   "version": "2.4.0"
  }
 },
 "nbformat": 4,
 "nbformat_minor": 5
}
